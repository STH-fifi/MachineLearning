{
 "cells": [
  {
   "cell_type": "markdown",
   "metadata": {},
   "source": [
    "## 任务3 建模\n",
    "\n",
    "内容：用逻辑回归、svm和决策树；随机森林和XGBoost进行模型构建，评分方式任意，如准确率等。（不需要考虑模型调参）\n",
    "\n",
    "DDL：20190811 10:00pm"
   ]
  },
  {
   "cell_type": "code",
   "execution_count": 1,
   "metadata": {},
   "outputs": [],
   "source": [
    "import numpy as np\n",
    "import pandas as pd\n",
    "from sklearn.model_selection import train_test_split\n",
    "from sklearn.preprocessing import StandardScaler\n",
    "from sklearn.linear_model import LogisticRegression\n",
    "from sklearn.svm import SVC\n",
    "from sklearn.tree import DecisionTreeClassifier"
   ]
  },
  {
   "cell_type": "code",
   "execution_count": 2,
   "metadata": {},
   "outputs": [
    {
     "data": {
      "text/html": [
       "<div>\n",
       "<style scoped>\n",
       "    .dataframe tbody tr th:only-of-type {\n",
       "        vertical-align: middle;\n",
       "    }\n",
       "\n",
       "    .dataframe tbody tr th {\n",
       "        vertical-align: top;\n",
       "    }\n",
       "\n",
       "    .dataframe thead th {\n",
       "        text-align: right;\n",
       "    }\n",
       "</style>\n",
       "<table border=\"1\" class=\"dataframe\">\n",
       "  <thead>\n",
       "    <tr style=\"text-align: right;\">\n",
       "      <th></th>\n",
       "      <th>history_fail_fee</th>\n",
       "      <th>trans_fail_top_count_enum_last_1_month</th>\n",
       "      <th>loans_score</th>\n",
       "      <th>apply_score</th>\n",
       "      <th>latest_one_month_fail</th>\n",
       "      <th>loans_overdue_count</th>\n",
       "      <th>max_cumulative_consume_later_1_month</th>\n",
       "      <th>trans_amount_3_month</th>\n",
       "      <th>repayment_capability</th>\n",
       "      <th>latest_query_day</th>\n",
       "      <th>...</th>\n",
       "      <th>rank_trad_1_month</th>\n",
       "      <th>consume_top_time_last_1_month</th>\n",
       "      <th>latest_six_month_loan</th>\n",
       "      <th>latest_one_month_suc</th>\n",
       "      <th>latest_six_month_apply</th>\n",
       "      <th>trans_activity_month</th>\n",
       "      <th>transd_mcc</th>\n",
       "      <th>latest_three_month_apply</th>\n",
       "      <th>take_amount_in_later_12_month_highest</th>\n",
       "      <th>status</th>\n",
       "    </tr>\n",
       "  </thead>\n",
       "  <tbody>\n",
       "    <tr>\n",
       "      <th>0</th>\n",
       "      <td>7.0</td>\n",
       "      <td>1.0</td>\n",
       "      <td>552.0</td>\n",
       "      <td>583.0</td>\n",
       "      <td>0.0</td>\n",
       "      <td>2.0</td>\n",
       "      <td>2170</td>\n",
       "      <td>34030</td>\n",
       "      <td>19890</td>\n",
       "      <td>12.0</td>\n",
       "      <td>...</td>\n",
       "      <td>0.40</td>\n",
       "      <td>4.0</td>\n",
       "      <td>13.0</td>\n",
       "      <td>1.0</td>\n",
       "      <td>8.0</td>\n",
       "      <td>0.55</td>\n",
       "      <td>17.0</td>\n",
       "      <td>5.0</td>\n",
       "      <td>0</td>\n",
       "      <td>1</td>\n",
       "    </tr>\n",
       "    <tr>\n",
       "      <th>1</th>\n",
       "      <td>4.0</td>\n",
       "      <td>0.0</td>\n",
       "      <td>635.0</td>\n",
       "      <td>653.0</td>\n",
       "      <td>1.0</td>\n",
       "      <td>0.0</td>\n",
       "      <td>2100</td>\n",
       "      <td>10590</td>\n",
       "      <td>16970</td>\n",
       "      <td>4.0</td>\n",
       "      <td>...</td>\n",
       "      <td>0.35</td>\n",
       "      <td>13.0</td>\n",
       "      <td>8.0</td>\n",
       "      <td>2.0</td>\n",
       "      <td>8.0</td>\n",
       "      <td>1.00</td>\n",
       "      <td>19.0</td>\n",
       "      <td>6.0</td>\n",
       "      <td>2000</td>\n",
       "      <td>0</td>\n",
       "    </tr>\n",
       "    <tr>\n",
       "      <th>2</th>\n",
       "      <td>2.0</td>\n",
       "      <td>3.0</td>\n",
       "      <td>633.0</td>\n",
       "      <td>654.0</td>\n",
       "      <td>1.0</td>\n",
       "      <td>0.0</td>\n",
       "      <td>0</td>\n",
       "      <td>5710</td>\n",
       "      <td>9710</td>\n",
       "      <td>2.0</td>\n",
       "      <td>...</td>\n",
       "      <td>1.00</td>\n",
       "      <td>0.0</td>\n",
       "      <td>4.0</td>\n",
       "      <td>1.0</td>\n",
       "      <td>14.0</td>\n",
       "      <td>1.00</td>\n",
       "      <td>13.0</td>\n",
       "      <td>5.0</td>\n",
       "      <td>0</td>\n",
       "      <td>1</td>\n",
       "    </tr>\n",
       "    <tr>\n",
       "      <th>3</th>\n",
       "      <td>26.0</td>\n",
       "      <td>1.0</td>\n",
       "      <td>542.0</td>\n",
       "      <td>595.0</td>\n",
       "      <td>0.0</td>\n",
       "      <td>4.0</td>\n",
       "      <td>8140</td>\n",
       "      <td>91690</td>\n",
       "      <td>6210</td>\n",
       "      <td>2.0</td>\n",
       "      <td>...</td>\n",
       "      <td>0.15</td>\n",
       "      <td>6.0</td>\n",
       "      <td>34.0</td>\n",
       "      <td>2.0</td>\n",
       "      <td>17.0</td>\n",
       "      <td>0.57</td>\n",
       "      <td>22.0</td>\n",
       "      <td>16.0</td>\n",
       "      <td>2000</td>\n",
       "      <td>0</td>\n",
       "    </tr>\n",
       "    <tr>\n",
       "      <th>4</th>\n",
       "      <td>25.0</td>\n",
       "      <td>3.0</td>\n",
       "      <td>479.0</td>\n",
       "      <td>541.0</td>\n",
       "      <td>0.0</td>\n",
       "      <td>6.0</td>\n",
       "      <td>1000</td>\n",
       "      <td>9770</td>\n",
       "      <td>11150</td>\n",
       "      <td>22.0</td>\n",
       "      <td>...</td>\n",
       "      <td>0.65</td>\n",
       "      <td>0.0</td>\n",
       "      <td>10.0</td>\n",
       "      <td>0.0</td>\n",
       "      <td>9.0</td>\n",
       "      <td>1.00</td>\n",
       "      <td>13.0</td>\n",
       "      <td>8.0</td>\n",
       "      <td>0</td>\n",
       "      <td>1</td>\n",
       "    </tr>\n",
       "  </tbody>\n",
       "</table>\n",
       "<p>5 rows × 51 columns</p>\n",
       "</div>"
      ],
      "text/plain": [
       "   history_fail_fee  trans_fail_top_count_enum_last_1_month  loans_score  \\\n",
       "0               7.0                                     1.0        552.0   \n",
       "1               4.0                                     0.0        635.0   \n",
       "2               2.0                                     3.0        633.0   \n",
       "3              26.0                                     1.0        542.0   \n",
       "4              25.0                                     3.0        479.0   \n",
       "\n",
       "   apply_score  latest_one_month_fail  loans_overdue_count  \\\n",
       "0        583.0                    0.0                  2.0   \n",
       "1        653.0                    1.0                  0.0   \n",
       "2        654.0                    1.0                  0.0   \n",
       "3        595.0                    0.0                  4.0   \n",
       "4        541.0                    0.0                  6.0   \n",
       "\n",
       "   max_cumulative_consume_later_1_month  trans_amount_3_month  \\\n",
       "0                                  2170                 34030   \n",
       "1                                  2100                 10590   \n",
       "2                                     0                  5710   \n",
       "3                                  8140                 91690   \n",
       "4                                  1000                  9770   \n",
       "\n",
       "   repayment_capability  latest_query_day   ...    rank_trad_1_month  \\\n",
       "0                 19890              12.0   ...                 0.40   \n",
       "1                 16970               4.0   ...                 0.35   \n",
       "2                  9710               2.0   ...                 1.00   \n",
       "3                  6210               2.0   ...                 0.15   \n",
       "4                 11150              22.0   ...                 0.65   \n",
       "\n",
       "   consume_top_time_last_1_month  latest_six_month_loan  latest_one_month_suc  \\\n",
       "0                            4.0                   13.0                   1.0   \n",
       "1                           13.0                    8.0                   2.0   \n",
       "2                            0.0                    4.0                   1.0   \n",
       "3                            6.0                   34.0                   2.0   \n",
       "4                            0.0                   10.0                   0.0   \n",
       "\n",
       "   latest_six_month_apply  trans_activity_month  transd_mcc  \\\n",
       "0                     8.0                  0.55        17.0   \n",
       "1                     8.0                  1.00        19.0   \n",
       "2                    14.0                  1.00        13.0   \n",
       "3                    17.0                  0.57        22.0   \n",
       "4                     9.0                  1.00        13.0   \n",
       "\n",
       "   latest_three_month_apply  take_amount_in_later_12_month_highest  status  \n",
       "0                       5.0                                      0       1  \n",
       "1                       6.0                                   2000       0  \n",
       "2                       5.0                                      0       1  \n",
       "3                      16.0                                   2000       0  \n",
       "4                       8.0                                      0       1  \n",
       "\n",
       "[5 rows x 51 columns]"
      ]
     },
     "execution_count": 2,
     "metadata": {},
     "output_type": "execute_result"
    }
   ],
   "source": [
    "# 导入task2处理后的数据\n",
    "df3 = pd.read_csv('./data_clean.csv')\n",
    "df3.head()"
   ]
  },
  {
   "cell_type": "code",
   "execution_count": 3,
   "metadata": {},
   "outputs": [],
   "source": [
    "feature = df3.iloc[:, :-1]\n",
    "label = df3.iloc[:, -1]"
   ]
  },
  {
   "cell_type": "code",
   "execution_count": 4,
   "metadata": {},
   "outputs": [
    {
     "data": {
      "text/plain": [
       "(4455, 50)"
      ]
     },
     "execution_count": 4,
     "metadata": {},
     "output_type": "execute_result"
    }
   ],
   "source": [
    "feature.shape"
   ]
  },
  {
   "cell_type": "code",
   "execution_count": 5,
   "metadata": {},
   "outputs": [
    {
     "data": {
      "text/plain": [
       "(4455,)"
      ]
     },
     "execution_count": 5,
     "metadata": {},
     "output_type": "execute_result"
    }
   ],
   "source": [
    "label.shape"
   ]
  },
  {
   "cell_type": "code",
   "execution_count": 6,
   "metadata": {},
   "outputs": [],
   "source": [
    "# 拆分训练集和测试集\n",
    "x_train,x_test,y_train,y_test = train_test_split(feature,label,test_size = 0.3,random_state=2018)"
   ]
  },
  {
   "cell_type": "code",
   "execution_count": 7,
   "metadata": {},
   "outputs": [],
   "source": [
    "# 数据标准化处理\n",
    "std_scaler = StandardScaler()\n",
    "x_train_new = std_scaler.fit_transform(x_train)\n",
    "x_test_new = std_scaler.fit_transform(x_test)"
   ]
  },
  {
   "cell_type": "code",
   "execution_count": 8,
   "metadata": {},
   "outputs": [
    {
     "name": "stdout",
     "output_type": "stream",
     "text": [
      "利用逻辑回归算法时，在测试数据集上面的预测准确率: 0.79\n"
     ]
    }
   ],
   "source": [
    "# 逻辑回归\n",
    "logreg = LogisticRegression()\n",
    "logreg.fit(x_train_new,y_train)\n",
    "\n",
    "# 在测试集上的预测准确率\n",
    "y_pred = logreg.predict(x_test_new)\n",
    "print('利用逻辑回归算法时，在测试数据集上面的预测准确率: {:.2f}'.format(logreg.score(x_test_new, y_test)))"
   ]
  },
  {
   "cell_type": "code",
   "execution_count": null,
   "metadata": {
    "scrolled": true
   },
   "outputs": [],
   "source": [
    "# SVM\n",
    "model = SVC(kernel='linear', C=1E10)\n",
    "model.fit(x_train_new,y_train)\n",
    "\n",
    "# 在测试集上的预测准确率\n",
    "y_pred = model.predict(x_test_new)\n",
    "print('利用SVM算法时，在测试数据集上面的预测准确率: {:.2f}'.format(model.score(x_test_new, y_test)))"
   ]
  },
  {
   "cell_type": "code",
   "execution_count": 12,
   "metadata": {},
   "outputs": [
    {
     "name": "stdout",
     "output_type": "stream",
     "text": [
      "利用SVM算法时，在测试数据集上面的预测准确率: 0.79\n"
     ]
    }
   ],
   "source": [
    "# 决策树\n",
    "tree_clf = DecisionTreeClassifier(max_depth=5)\n",
    "tree_clf.fit(x_train_new,y_train)\n",
    "\n",
    "# 在测试集上的预测准确率\n",
    "y_pred = tree_clf.predict(x_test_new)\n",
    "print('利用SVM算法时，在测试数据集上面的预测准确率: {:.2f}'.format(tree_clf.score(x_test_new, y_test)))"
   ]
  },
  {
   "cell_type": "code",
   "execution_count": 9,
   "metadata": {},
   "outputs": [],
   "source": []
  },
  {
   "cell_type": "code",
   "execution_count": null,
   "metadata": {},
   "outputs": [],
   "source": []
  },
  {
   "cell_type": "code",
   "execution_count": null,
   "metadata": {},
   "outputs": [],
   "source": []
  }
 ],
 "metadata": {
  "kernelspec": {
   "display_name": "Python 3",
   "language": "python",
   "name": "python3"
  },
  "language_info": {
   "codemirror_mode": {
    "name": "ipython",
    "version": 3
   },
   "file_extension": ".py",
   "mimetype": "text/x-python",
   "name": "python",
   "nbconvert_exporter": "python",
   "pygments_lexer": "ipython3",
   "version": "3.6.5"
  },
  "toc": {
   "base_numbering": 1,
   "nav_menu": {},
   "number_sections": false,
   "sideBar": true,
   "skip_h1_title": false,
   "title_cell": "Table of Contents",
   "title_sidebar": "Contents",
   "toc_cell": false,
   "toc_position": {},
   "toc_section_display": true,
   "toc_window_display": false
  }
 },
 "nbformat": 4,
 "nbformat_minor": 2
}
